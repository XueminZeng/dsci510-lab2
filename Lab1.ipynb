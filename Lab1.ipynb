{
 "cells": [
  {
   "cell_type": "markdown",
   "metadata": {
    "collapsed": true,
    "pycharm": {
     "is_executing": false,
     "name": "#%% md\n"
    }
   },
   "source": [
    "Lab 1\n",
    "---\n",
    "Hello All,\n",
    "\n",
    "I am Dhrumil Soni, the CP of the course DSCI 510. Welcome to the lab.\n",
    "\n",
    "Guidelines for the Lab:\n",
    "- You will be given the lab assignment in the start of the lab. You're supposed to complete it by the deadline stated on DEN. Should be usually on Friday Midnight.  \n",
    "\n",
    "- You've to complete the assignments individually. If you are having trouble completing the assignment do let me know, I will clear your doubts and guide you but I'll not write code for you and no one else should :) !!!  \n",
    "\n",
    "- You have to fill in the code to this notebook and upload it to your repository. And simply, submit the link to the repo. Also, the repository name has to be in the form 'dsci510-lab(Lab Number)'. For example, first lab would be 'dsci510-lab1'  \n",
    "\n",
    "- You are encouraged to look up resources online like python docs and stackoverflow. But, you are encouraged to look up the topics and not the questions themselves  \n",
    "\n",
    "- Your last submission will be counted towards your grade on DEN and do not edit the repository after the deadline  "
   ]
  },
  {
   "cell_type": "markdown",
   "metadata": {
    "pycharm": {
     "name": "#%% md\n"
    }
   },
   "source": [
    "Q1[10 points]. Given two integers base and power print the exponent that is $base^{power}$. Fill the function in the next cell to complete the task.\n",
    "\n",
    "After completing the whole lab, try running this code with a huge power like say a million and see what happens. Try to realize the potential of such a language that scales and utilizes the computing power that you have.(Computer might hang after this, do it with a smaller power if you think your computer can't handle it)\n",
    "\n",
    "---\n",
    "Example:  \n",
    "Input:  \n",
    "base = 2, power = 4  \n",
    "Output:  \n",
    "Answer is 16  \n",
    "\n",
    "---\n",
    "Rubric: 5 points if you get the exponent on a variable. 10 points if your code does exactly as required. "
   ]
  },
  {
   "cell_type": "code",
   "execution_count": 9,
   "metadata": {
    "pycharm": {
     "name": "#%%\n"
    }
   },
   "outputs": [],
   "source": [
    "def exponent(base, power):\n",
    "    pass\n",
    "    # Remove pass and enter your code here\n",
    "\n",
    "exponent(2, 4)"
   ]
  },
  {
   "cell_type": "markdown",
   "metadata": {},
   "source": [
    "Q2[10 points]. Take the input temperature in Fahrenheit and print the value of temperature in Celsius  \n",
    "Note: You have to prompt the user for taking the value of a variable. Fill the function in the next cell to complete the task.  \n",
    "\n",
    "---\n",
    "\n",
    "For example,  \n",
    "Input:  \n",
    "Enter the temperature in Fahrenheit: 75  \n",
    "Output:  \n",
    "Temperature in Celcius is 23.88888888888889  \n",
    "\n",
    "Hint:\n",
    "1. Formula-> C = (F-32)*5/9  \n",
    "2. You'll need to cast the datatype after the input  \n",
    "\n",
    "---\n",
    "Rubric: 3 points for taking the input correctly. 6 points if input is taken correctly and temperature in F is stored in appropriate datatype. 10 points if code does exactly as required. "
   ]
  },
  {
   "cell_type": "code",
   "execution_count": 2,
   "metadata": {
    "pycharm": {
     "is_executing": false,
     "name": "#%% \n"
    }
   },
   "outputs": [],
   "source": [
    "def f_to_c():\n",
    "    pass\n",
    "    # Remove pass and enter your code here\n",
    "\n",
    "f_to_c()"
   ]
  },
  {
   "cell_type": "markdown",
   "metadata": {},
   "source": [
    "Q3[10 points]. Write a function that returns the slope of two points.  \n",
    "\n",
    "---\n",
    "Example 1:   \n",
    "Input:  \n",
    "x1 = 0, y1 = 0, x2 = 1, y2 = 1   \n",
    "Output:  \n",
    "1  \n",
    "\n",
    "Hint:  \n",
    "Formula: $slope = (y2-y1)/(x2-x1)$\n",
    "\n",
    "---\n",
    "Rubric: 3 points if code gets the slope. 10 points if it always gives correct slope and code doesn't crash."
   ]
  },
  {
   "cell_type": "code",
   "execution_count": 3,
   "metadata": {},
   "outputs": [],
   "source": [
    "# Use this cell for your solution\n",
    "\n",
    "def get_slope(x1, y1, x2, y2):\n",
    "    # calc slope here\n",
    "    pass\n",
    "\n",
    "get_slope(0, 0, 1, 1)"
   ]
  },
  {
   "cell_type": "markdown",
   "metadata": {},
   "source": [
    "Challenge/Bonus Question[5 points]\n",
    "---\n",
    "Provided the day $d$ of the week as an number from 0-6 where 0 indicates monday and 6 indicates sunday and a number $add$ as the number of days to be added. Print the day of the week after adding $add$ days to $d$.\n",
    " \n",
    "---\n",
    "Example 1:  \n",
    "Input:  \n",
    "d = 1, add = 3   \n",
    "Output:  \n",
    "The day is 4   \n",
    "Example 2:   \n",
    "Input:   \n",
    "d = 0, add = 7   \n",
    "Output:  \n",
    "The day is 0\n",
    "\n",
    "---\n",
    "Rubric: Binary"
   ]
  },
  {
   "cell_type": "code",
   "execution_count": 4,
   "metadata": {
    "pycharm": {
     "name": "#%%\n"
    }
   },
   "outputs": [],
   "source": [
    "def day(d, add):\n",
    "    pass\n",
    "    # Remove pass and enter your code here\n",
    "\n",
    "day(1, 3)\n",
    "day(0, 7)"
   ]
  }
 ],
 "metadata": {
  "kernelspec": {
   "display_name": "Python 3",
   "language": "python",
   "name": "python3"
  },
  "language_info": {
   "codemirror_mode": {
    "name": "ipython",
    "version": 3
   },
   "file_extension": ".py",
   "mimetype": "text/x-python",
   "name": "python",
   "nbconvert_exporter": "python",
   "pygments_lexer": "ipython3",
   "version": "3.7.6"
  },
  "pycharm": {
   "stem_cell": {
    "cell_type": "raw",
    "metadata": {
     "collapsed": false
    },
    "source": []
   }
  }
 },
 "nbformat": 4,
 "nbformat_minor": 1
}
